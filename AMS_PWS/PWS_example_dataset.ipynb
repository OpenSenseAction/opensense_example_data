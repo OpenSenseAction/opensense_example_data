{
 "cells": [
  {
   "cell_type": "markdown",
   "id": "5d5f2627-41ee-4073-bdba-6061f38eb0fc",
   "metadata": {},
   "source": [
    "# OpenSense data format for personal weather station data used to generate an AMS PWS dataset\n",
    "Example how an open PWS dataset can be transformed into a netCDF with the data format defined \n",
    "by the [OpenSense](https://opensenseaction.eu/) community.\n"
   ]
  },
  {
   "cell_type": "code",
   "execution_count": 1,
   "id": "5cf29ea7",
   "metadata": {},
   "outputs": [],
   "source": [
    "import numpy as np\n",
    "import pandas as pd\n",
    "import xarray as xr\n",
    "import os\n",
    "import urllib\n",
    "import zipfile\n",
    "import matplotlib.pyplot as plt"
   ]
  },
  {
   "cell_type": "markdown",
   "id": "84106f4c-2d60-4b12-be4d-6214e083fa23",
   "metadata": {},
   "source": [
    "## Load a public dataset\n",
    "Dowload and unpack data and metadata from the Amsterdam PWS data set:  \n",
    "https://data.4tu.nl/articles/dataset/Rainfall_observations_datasets_from_Personal_Weather_Stations/12703250"
   ]
  },
  {
   "cell_type": "code",
   "execution_count": null,
   "id": "87858a72-1b2a-485b-8801-43df05d2743d",
   "metadata": {},
   "outputs": [],
   "source": [
    "# define data source and local path\n",
    "url = \"https://data.4tu.nl/ndownloader/files/24056603\"\n",
    "url= 'https://data.4tu.nl/file/fa404032-4fb2-483d-bb9c-af043a25990c/da8b1115-88fa-45ec-97df-3d3d43e4ffaa'\n",
    "local_path = 'tmp_data/deVos_2019_PWS/'\n",
    "\n",
    "# create local folder\n",
    "if not os.path.exists(local_path):\n",
    "    os.makedirs(local_path)\n",
    "\n",
    "# download to local folder\n",
    "local_file_name = url.split(\"/\")[-1]\n",
    "request_return_meassage = urllib.request.urlretrieve(\n",
    "    url, os.path.join(local_path, local_file_name)\n",
    ")\n",
    "\n",
    "# unzip data\n",
    "with zipfile.ZipFile(os.path.join(local_path, local_file_name)) as zfile:\n",
    "    zfile.extractall(local_path)"
   ]
  },
  {
   "cell_type": "code",
   "execution_count": null,
   "id": "f7fc52d6-a9af-4fd6-96a7-755146aca7d5",
   "metadata": {},
   "outputs": [],
   "source": [
    "# read data\n",
    "pws_meta = pd.read_csv(os.path.join(local_path,\"AMS_metadata.csv\"))\n",
    "pws_data = pd.read_csv(os.path.join(local_path,\"AMS_dataset.csv\"), index_col=0, parse_dates=True)"
   ]
  },
  {
   "cell_type": "markdown",
   "id": "4357c795-c6f6-4aba-a35f-99b72a406991",
   "metadata": {},
   "source": [
    "## Create a `xarray.Dataset` in the desired format"
   ]
  },
  {
   "cell_type": "code",
   "execution_count": null,
   "id": "5b2c2c40",
   "metadata": {},
   "outputs": [],
   "source": [
    "# creates a xarray data set from the imput data and assigns coordinates\n",
    "# according to the OPENSENSE standards defined in the white paper\n",
    "ds = pws_data.to_xarray().to_array(dim=\"id\")\n",
    "ds = ds.rename({\"Time\": \"time\"})\n",
    "ds = ds.to_dataset(name=\"rainfall\")"
   ]
  },
  {
   "cell_type": "code",
   "execution_count": null,
   "id": "7b0193f4",
   "metadata": {},
   "outputs": [],
   "source": [
    "# creates elevation coordinate and fills it with np.nan since this\n",
    "# information is not available in the AMS PWS data set\n",
    "ds = ds.assign_coords({\"elevation\": xr.full_like(ds.id, np.nan)})"
   ]
  },
  {
   "cell_type": "code",
   "execution_count": null,
   "id": "04f9b2f2",
   "metadata": {},
   "outputs": [],
   "source": [
    "# assign lat and lon as coordinates with the dimension id\n",
    "ds = ds.assign_coords(lat=(\"id\", pws_meta.lat.values))\n",
    "ds = ds.assign_coords(lon=(\"id\", pws_meta.lon.values))"
   ]
  },
  {
   "cell_type": "code",
   "execution_count": null,
   "id": "59bcfbd2-ed46-49bc-8741-ee05f1e8e797",
   "metadata": {},
   "outputs": [],
   "source": [
    "# set encoding attribute for time\n",
    "ds.time.encoding['units'] = \"seconds since 1970-01-01 00:00:00\""
   ]
  },
  {
   "cell_type": "code",
   "execution_count": null,
   "id": "126c4c38-7784-4ba3-8e57-a91b9b84e6ba",
   "metadata": {},
   "outputs": [],
   "source": [
    "ds"
   ]
  },
  {
   "cell_type": "markdown",
   "id": "4f359910-d8dd-44bd-bfa9-6bb5e2b33cb7",
   "metadata": {},
   "source": [
    "## Add global attributes and attributes to variables and coordinates"
   ]
  },
  {
   "cell_type": "code",
   "execution_count": null,
   "id": "62da4228-c512-45e2-9bb8-829d2bd99b6c",
   "metadata": {},
   "outputs": [],
   "source": [
    "# variable attributes\n",
    "ds.rainfall.attrs = dict(\n",
    "    name = \"rainfall\",\n",
    "    long_name = \"rainfall amount per time unit\",\n",
    "    units = \"mm\",\n",
    "    coverage_contant_type = \"physicalMeasurement\")\n",
    "\n",
    "# coordiante attributes\n",
    "ds.time.attrs = dict(\n",
    "    unit=\"seconds since 1970-01-01 00:00:00\",\n",
    ")\n",
    "ds.lon.attrs = dict(units=\"degrees in WGS84 projection\")\n",
    "ds.lat.attrs = dict(units=\"degrees in WGS84 projection\")\n",
    "ds.elevation.attrs = dict(units=\"meters\", longname=\"meters_above_sea\")\n",
    "\n",
    "# global Atrributes\n",
    "ds.attrs[\"title\"] = \"PWS data from Amsterdam\"\n",
    "ds.attrs[\"file author\"] = \"Maximilian Graf\"\n",
    "ds.attrs[\"institution\"] = \"Wageningen University and Research, Department of Environmental Sciences\"\n",
    "ds.attrs[\"date\"] = \"2022-10-18 10:32:00\"\n",
    "ds.attrs[\"source\"] = \"Netamo PWS\"\n",
    "ds.attrs[\"history\"] = \"Data derived and reformated from the originally published dataset\"\n",
    "ds.attrs[\"naming convention\"] = \"OpenSense-0.1\"\n",
    "ds.attrs[\"license restrictions\"] = \"CC-BY 4.0 https://creativecommons.org/licenses/by/4.0/\"\n",
    "ds.attrs[\"reference\"] = \"https://doi.org/10.1029/2019GL083731\"\n",
    "ds.attrs[\"comment\"] = \"\""
   ]
  },
  {
   "cell_type": "code",
   "execution_count": null,
   "id": "37ea2134-7a81-4fb3-999f-e6cac617a783",
   "metadata": {},
   "outputs": [],
   "source": [
    "ds"
   ]
  },
  {
   "cell_type": "markdown",
   "id": "91c28b7c-2459-4e10-9139-85ebe8677b94",
   "metadata": {},
   "source": [
    "## Save the `xarray.Dataset` as netCDF"
   ]
  },
  {
   "cell_type": "code",
   "execution_count": null,
   "id": "8271c774",
   "metadata": {},
   "outputs": [],
   "source": [
    "# add conoding to compress the file\n",
    "encoding = {\n",
    "    \"rainfall\": {\n",
    "        \"dtype\": \"int32\",\n",
    "        \"scale_factor\": 0.001,\n",
    "        \"zlib\": True,\n",
    "        \"_FillValue\": -9999,\n",
    "        \"complevel\": 3,\n",
    "    }\n",
    "}"
   ]
  },
  {
   "cell_type": "code",
   "execution_count": null,
   "id": "0b138b7a",
   "metadata": {},
   "outputs": [],
   "source": [
    "# write the xarray dataset to netCDF file\n",
    "ds.to_netcdf(\"ams_pws_full_dataset.nc\", \n",
    "             encoding=encoding)"
   ]
  },
  {
   "cell_type": "code",
   "execution_count": null,
   "id": "d033826f-49f7-4b66-ac17-d338a84833c5",
   "metadata": {},
   "outputs": [],
   "source": [
    "ds.rainfall"
   ]
  },
  {
   "cell_type": "code",
   "execution_count": null,
   "id": "72411f59-0b20-432c-b67c-0cf5ab51076b",
   "metadata": {},
   "outputs": [],
   "source": [
    "ds.rainfall.isel(time=range(200000,219168)).plot.line(x='time',add_legend=False,alpha=0.3)\n",
    "plt.ylim(0,25)\n",
    "plt.title(\"2.5 month from the 2 year AMS PWS dataset\");"
   ]
  },
  {
   "cell_type": "markdown",
   "id": "6c2b3b5f-3837-4ee4-9afe-00d84ac1711c",
   "metadata": {},
   "source": [
    "## Reference data based on radar data\n",
    "Abbas El Hachem prepareda reference dataset based on openly availably radar data from KNMI. He used  20 random pixel within the area of the AMS PWS dataset. This dataset is currently avaiilable in [`pypwsqc`](https://github.com/OpenSenseAction/pypwsqc/tree/main/docs/notebooks/data) and stored here using the OpenSense concention for PWS/point based data."
   ]
  },
  {
   "cell_type": "code",
   "execution_count": null,
   "id": "1d5c9f86-023e-4b9e-a2b9-0c7dd246a8bb",
   "metadata": {},
   "outputs": [],
   "source": [
    "ds_ref = xr.open_dataset(\"ams_gauges_full_dataset.nc\")"
   ]
  },
  {
   "cell_type": "code",
   "execution_count": null,
   "id": "c9fd630f-b790-4036-86ca-a7824e1b567f",
   "metadata": {},
   "outputs": [],
   "source": [
    "ds_ref"
   ]
  },
  {
   "cell_type": "code",
   "execution_count": null,
   "id": "c887b7c6-8697-4f05-a251-f6dfecb7bf05",
   "metadata": {},
   "outputs": [],
   "source": [
    "ds_ref.rainfall.plot.line(x='time',add_legend=False,alpha=0.3)\n",
    "plt.ylim(0,25)\n",
    "plt.title(\"Pseudo rain gauge reference from radar data - full 2 years\");"
   ]
  },
  {
   "cell_type": "markdown",
   "id": "691f55cc-8c2d-417c-b7b3-608308171082",
   "metadata": {},
   "source": [
    "## Calculate flags from de Vos et al 2019 and Bardossy et al 2021"
   ]
  },
  {
   "cell_type": "markdown",
   "id": "45d19ffa-a6bb-445a-851a-1f53c89598e0",
   "metadata": {},
   "source": [
    "to be done...\n"
   ]
  },
  {
   "cell_type": "code",
   "execution_count": null,
   "id": "25534a03-1509-40dd-933c-ce0ddab3096d",
   "metadata": {},
   "outputs": [],
   "source": []
  },
  {
   "cell_type": "code",
   "execution_count": null,
   "id": "4607875a-23c3-45e7-8f7f-fde7cb6b2d09",
   "metadata": {},
   "outputs": [],
   "source": [
    "ds.longitude.data[:2]"
   ]
  },
  {
   "cell_type": "code",
   "execution_count": null,
   "id": "d9195d3b-1939-4367-b128-c0e8445a0ff2",
   "metadata": {},
   "outputs": [],
   "source": []
  }
 ],
 "metadata": {
  "kernelspec": {
   "display_name": "Python 3 (ipykernel)",
   "language": "python",
   "name": "python3"
  },
  "language_info": {
   "codemirror_mode": {
    "name": "ipython",
    "version": 3
   },
   "file_extension": ".py",
   "mimetype": "text/x-python",
   "name": "python",
   "nbconvert_exporter": "python",
   "pygments_lexer": "ipython3",
   "version": "3.11.11"
  }
 },
 "nbformat": 4,
 "nbformat_minor": 5
}
